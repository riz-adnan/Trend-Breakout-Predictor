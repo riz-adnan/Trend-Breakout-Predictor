{
 "cells": [
  {
   "cell_type": "code",
   "execution_count": null,
   "id": "78f71a1e",
   "metadata": {},
   "outputs": [],
   "source": [
    "import pandas as pd\n",
    "import numpy as np\n",
    "import matplotlib.pyplot as plt\n",
    "import talib\n",
    "\n",
    "ticker = \"ZOMATO.NS\"\n",
    "df = yf.download(ticker, start=\"2018-01-01\", end=\"2022-12-31\")\n",
    "\n",
    "\n",
    "df['Range'] = (df['High'] - df['Low']) / df['Close']\n",
    "df['Average Range'] = df['Range'].rolling(window=14).mean()\n",
    "\n",
    "\n",
    "\n",
    "\n",
    "df['Risk-Reward'] = df['Average Range']\n",
    "\n",
    "df['High Risk/Reward'] = np.where(df['Risk-Reward'] > 0.01, 'High Risk/Reward', 'Low Risk/Reward')\n",
    "\n",
    "df['Position Size'] = df['Close'] / df['Risk-Reward']\n",
    "\n",
    "df['Long '] = np.where(df['High Risk/Reward'] == 'High Risk/Reward', df['Close'], np.nan)\n",
    "df['Long E'] = np.where(df['High Risk/Reward'].shift(-1) == 'Low Risk/Reward', df['Close'], np.nan)\n",
    "df['Long Entry']=df['Long '].fillna(method='ffill')\n",
    "df['Long Exit']=df['Long E'].fillna(method='ffill')\n",
    "df['Returns'] = (df['Long Exit'] / df['Long Entry'] - 1) * df['Position Size']\n",
    "df['Strategy Returns'] = df['Returns'].cumsum().fillna(0)\n",
    "df['a']=df['Position Size'].cumsum().fillna(0)\n",
    "df['stra_per']=df['Strategy Returns']/df['a']\n",
    "plt.rcParams[\"figure.figsize\"]=(40,10)\n",
    "plt.plot(df['Strategy Returns'])\n",
    "plt.show()\n",
    "plt.plot(df['stra_per'])\n",
    "plt.show()\n",
    "plt.plot(df['Close'])"
   ]
  }
 ],
 "metadata": {
  "kernelspec": {
   "display_name": "Python 3 (ipykernel)",
   "language": "python",
   "name": "python3"
  },
  "language_info": {
   "codemirror_mode": {
    "name": "ipython",
    "version": 3
   },
   "file_extension": ".py",
   "mimetype": "text/x-python",
   "name": "python",
   "nbconvert_exporter": "python",
   "pygments_lexer": "ipython3",
   "version": "3.11.4"
  }
 },
 "nbformat": 4,
 "nbformat_minor": 5
}
