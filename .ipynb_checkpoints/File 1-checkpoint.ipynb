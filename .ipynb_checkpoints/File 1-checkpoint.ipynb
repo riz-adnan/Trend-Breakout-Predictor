{
 "cells": [
  {
   "cell_type": "code",
   "execution_count": null,
   "id": "3e756dce",
   "metadata": {},
   "outputs": [],
   "source": [
    "import pandas as pd\n",
    "import numpy as np\n",
    "import yfinance as yf\n",
    "def calculate_z_score(price, window):\n",
    "    return (price - price.rolling(window).mean()) / price.rolling(window).std()\n",
    "\n",
    "def backtest_breakout_strategy(data, window, z_threshold):\n",
    "    data = data.copy()\n",
    "    data['z_score'] = calculate_z_score(data['Close'], window)\n",
    "    data['entry_signal'] = np.where(data['z_score'] > z_threshold, 1, np.nan)\n",
    "    data['exit_signal'] = np.where(data['z_score'] < -z_threshold, -1, np.nan)\n",
    "    data['strategy'] = data['entry_signal'].fillna(method='ffill') + data['exit_signal'].fillna(0)\n",
    "    data['strategy'] = data['strategy'].shift(1)\n",
    "    \n",
    "    data['returns'] = data['Close'].pct_change()\n",
    "    data['strategy_returns'] = data['returns'] * data['strategy']\n",
    "    return data\n",
    "\n",
    "def run_backtest(data, window, z_threshold):\n",
    "    results = backtest_breakout_strategy(data, window, z_threshold)\n",
    "    returns = results['strategy_returns'].dropna()\n",
    "    cumulative_returns = (1 + returns).cumprod() - 1\n",
    "    return cumulative_returns\n",
    "\n",
    "\n",
    "ticker=\"ZOMATO.NS\"\n",
    "data = yf.download(ticker, start=\"2018-01-01\", end=\"2022-12-31\")\n",
    "window = 20 \n",
    "z_threshold = 2 \n",
    "cumulative_returns = run_backtest(data, window, z_threshold)\n",
    "\n",
    "import matplotlib.pyplot as plt\n",
    "plt.plot(cumulative_returns)\n",
    "plt.plot(data['Close']/data['Close'][0])\n",
    "plt.show()"
   ]
  }
 ],
 "metadata": {
  "kernelspec": {
   "display_name": "Python 3 (ipykernel)",
   "language": "python",
   "name": "python3"
  },
  "language_info": {
   "codemirror_mode": {
    "name": "ipython",
    "version": 3
   },
   "file_extension": ".py",
   "mimetype": "text/x-python",
   "name": "python",
   "nbconvert_exporter": "python",
   "pygments_lexer": "ipython3",
   "version": "3.11.4"
  }
 },
 "nbformat": 4,
 "nbformat_minor": 5
}
